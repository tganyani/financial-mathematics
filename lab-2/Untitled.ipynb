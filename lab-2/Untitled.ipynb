{
 "cells": [
  {
   "cell_type": "code",
   "execution_count": 58,
   "metadata": {},
   "outputs": [],
   "source": [
    "import pandas as pd\n",
    "import matplotlib.pyplot as plt \n",
    "import numpy as np\n",
    "from IPython.display import Latex"
   ]
  },
  {
   "cell_type": "code",
   "execution_count": 59,
   "metadata": {},
   "outputs": [],
   "source": [
    "data = pd.read_csv('sberbank.csv')"
   ]
  },
  {
   "cell_type": "code",
   "execution_count": 60,
   "metadata": {},
   "outputs": [
    {
     "data": {
      "text/html": [
       "<div>\n",
       "<style scoped>\n",
       "    .dataframe tbody tr th:only-of-type {\n",
       "        vertical-align: middle;\n",
       "    }\n",
       "\n",
       "    .dataframe tbody tr th {\n",
       "        vertical-align: top;\n",
       "    }\n",
       "\n",
       "    .dataframe thead th {\n",
       "        text-align: right;\n",
       "    }\n",
       "</style>\n",
       "<table border=\"1\" class=\"dataframe\">\n",
       "  <thead>\n",
       "    <tr style=\"text-align: right;\">\n",
       "      <th></th>\n",
       "      <th>&lt;TICKER&gt;</th>\n",
       "      <th>&lt;PER&gt;</th>\n",
       "      <th>&lt;DATE&gt;</th>\n",
       "      <th>&lt;TIME&gt;</th>\n",
       "      <th>&lt;OPEN&gt;</th>\n",
       "      <th>&lt;HIGH&gt;</th>\n",
       "      <th>&lt;LOW&gt;</th>\n",
       "      <th>&lt;CLOSE&gt;</th>\n",
       "      <th>&lt;VOL&gt;</th>\n",
       "    </tr>\n",
       "  </thead>\n",
       "  <tbody>\n",
       "    <tr>\n",
       "      <th>0</th>\n",
       "      <td>SBER</td>\n",
       "      <td>M</td>\n",
       "      <td>20191201</td>\n",
       "      <td>0</td>\n",
       "      <td>234.59</td>\n",
       "      <td>256.00</td>\n",
       "      <td>229.03</td>\n",
       "      <td>254.75</td>\n",
       "      <td>665341440</td>\n",
       "    </tr>\n",
       "    <tr>\n",
       "      <th>1</th>\n",
       "      <td>SBER</td>\n",
       "      <td>M</td>\n",
       "      <td>20200101</td>\n",
       "      <td>0</td>\n",
       "      <td>255.97</td>\n",
       "      <td>270.80</td>\n",
       "      <td>251.40</td>\n",
       "      <td>252.20</td>\n",
       "      <td>745103430</td>\n",
       "    </tr>\n",
       "    <tr>\n",
       "      <th>2</th>\n",
       "      <td>SBER</td>\n",
       "      <td>M</td>\n",
       "      <td>20200201</td>\n",
       "      <td>0</td>\n",
       "      <td>251.80</td>\n",
       "      <td>259.77</td>\n",
       "      <td>231.00</td>\n",
       "      <td>233.36</td>\n",
       "      <td>915734170</td>\n",
       "    </tr>\n",
       "    <tr>\n",
       "      <th>3</th>\n",
       "      <td>SBER</td>\n",
       "      <td>M</td>\n",
       "      <td>20200301</td>\n",
       "      <td>0</td>\n",
       "      <td>238.55</td>\n",
       "      <td>241.00</td>\n",
       "      <td>172.15</td>\n",
       "      <td>187.21</td>\n",
       "      <td>2993191110</td>\n",
       "    </tr>\n",
       "    <tr>\n",
       "      <th>4</th>\n",
       "      <td>SBER</td>\n",
       "      <td>M</td>\n",
       "      <td>20200401</td>\n",
       "      <td>0</td>\n",
       "      <td>183.20</td>\n",
       "      <td>205.44</td>\n",
       "      <td>182.00</td>\n",
       "      <td>197.25</td>\n",
       "      <td>1764475550</td>\n",
       "    </tr>\n",
       "    <tr>\n",
       "      <th>5</th>\n",
       "      <td>SBER</td>\n",
       "      <td>M</td>\n",
       "      <td>20200501</td>\n",
       "      <td>0</td>\n",
       "      <td>195.68</td>\n",
       "      <td>205.00</td>\n",
       "      <td>183.33</td>\n",
       "      <td>200.50</td>\n",
       "      <td>1356212500</td>\n",
       "    </tr>\n",
       "    <tr>\n",
       "      <th>6</th>\n",
       "      <td>SBER</td>\n",
       "      <td>M</td>\n",
       "      <td>20200601</td>\n",
       "      <td>0</td>\n",
       "      <td>203.10</td>\n",
       "      <td>223.15</td>\n",
       "      <td>200.75</td>\n",
       "      <td>203.22</td>\n",
       "      <td>1517022880</td>\n",
       "    </tr>\n",
       "    <tr>\n",
       "      <th>7</th>\n",
       "      <td>SBER</td>\n",
       "      <td>M</td>\n",
       "      <td>20200701</td>\n",
       "      <td>0</td>\n",
       "      <td>205.01</td>\n",
       "      <td>221.98</td>\n",
       "      <td>197.73</td>\n",
       "      <td>221.57</td>\n",
       "      <td>1085909540</td>\n",
       "    </tr>\n",
       "    <tr>\n",
       "      <th>8</th>\n",
       "      <td>SBER</td>\n",
       "      <td>M</td>\n",
       "      <td>20200801</td>\n",
       "      <td>0</td>\n",
       "      <td>222.27</td>\n",
       "      <td>244.04</td>\n",
       "      <td>221.30</td>\n",
       "      <td>226.10</td>\n",
       "      <td>1323419970</td>\n",
       "    </tr>\n",
       "    <tr>\n",
       "      <th>9</th>\n",
       "      <td>SBER</td>\n",
       "      <td>M</td>\n",
       "      <td>20200901</td>\n",
       "      <td>0</td>\n",
       "      <td>226.71</td>\n",
       "      <td>232.60</td>\n",
       "      <td>215.79</td>\n",
       "      <td>229.14</td>\n",
       "      <td>1399555760</td>\n",
       "    </tr>\n",
       "    <tr>\n",
       "      <th>10</th>\n",
       "      <td>SBER</td>\n",
       "      <td>M</td>\n",
       "      <td>20201001</td>\n",
       "      <td>0</td>\n",
       "      <td>229.14</td>\n",
       "      <td>229.90</td>\n",
       "      <td>200.50</td>\n",
       "      <td>200.99</td>\n",
       "      <td>1485720760</td>\n",
       "    </tr>\n",
       "    <tr>\n",
       "      <th>11</th>\n",
       "      <td>SBER</td>\n",
       "      <td>M</td>\n",
       "      <td>20201101</td>\n",
       "      <td>0</td>\n",
       "      <td>200.44</td>\n",
       "      <td>252.88</td>\n",
       "      <td>196.15</td>\n",
       "      <td>249.63</td>\n",
       "      <td>2308248000</td>\n",
       "    </tr>\n",
       "    <tr>\n",
       "      <th>12</th>\n",
       "      <td>SBER</td>\n",
       "      <td>M</td>\n",
       "      <td>20201201</td>\n",
       "      <td>0</td>\n",
       "      <td>250.71</td>\n",
       "      <td>287.74</td>\n",
       "      <td>249.80</td>\n",
       "      <td>271.65</td>\n",
       "      <td>1658371850</td>\n",
       "    </tr>\n",
       "    <tr>\n",
       "      <th>13</th>\n",
       "      <td>SBER</td>\n",
       "      <td>M</td>\n",
       "      <td>20210101</td>\n",
       "      <td>0</td>\n",
       "      <td>274.67</td>\n",
       "      <td>296.07</td>\n",
       "      <td>257.36</td>\n",
       "      <td>258.11</td>\n",
       "      <td>1469032080</td>\n",
       "    </tr>\n",
       "    <tr>\n",
       "      <th>14</th>\n",
       "      <td>SBER</td>\n",
       "      <td>M</td>\n",
       "      <td>20210201</td>\n",
       "      <td>0</td>\n",
       "      <td>260.00</td>\n",
       "      <td>276.48</td>\n",
       "      <td>258.55</td>\n",
       "      <td>270.17</td>\n",
       "      <td>1288972520</td>\n",
       "    </tr>\n",
       "    <tr>\n",
       "      <th>15</th>\n",
       "      <td>SBER</td>\n",
       "      <td>M</td>\n",
       "      <td>20210301</td>\n",
       "      <td>0</td>\n",
       "      <td>273.00</td>\n",
       "      <td>295.72</td>\n",
       "      <td>271.13</td>\n",
       "      <td>291.02</td>\n",
       "      <td>1362873010</td>\n",
       "    </tr>\n",
       "    <tr>\n",
       "      <th>16</th>\n",
       "      <td>SBER</td>\n",
       "      <td>M</td>\n",
       "      <td>20210401</td>\n",
       "      <td>0</td>\n",
       "      <td>292.00</td>\n",
       "      <td>301.84</td>\n",
       "      <td>278.00</td>\n",
       "      <td>297.73</td>\n",
       "      <td>1205253110</td>\n",
       "    </tr>\n",
       "    <tr>\n",
       "      <th>17</th>\n",
       "      <td>SBER</td>\n",
       "      <td>M</td>\n",
       "      <td>20210501</td>\n",
       "      <td>0</td>\n",
       "      <td>298.70</td>\n",
       "      <td>320.19</td>\n",
       "      <td>293.00</td>\n",
       "      <td>310.79</td>\n",
       "      <td>978132530</td>\n",
       "    </tr>\n",
       "    <tr>\n",
       "      <th>18</th>\n",
       "      <td>SBER</td>\n",
       "      <td>M</td>\n",
       "      <td>20210601</td>\n",
       "      <td>0</td>\n",
       "      <td>312.60</td>\n",
       "      <td>316.58</td>\n",
       "      <td>303.34</td>\n",
       "      <td>306.45</td>\n",
       "      <td>698700260</td>\n",
       "    </tr>\n",
       "    <tr>\n",
       "      <th>19</th>\n",
       "      <td>SBER</td>\n",
       "      <td>M</td>\n",
       "      <td>20210701</td>\n",
       "      <td>0</td>\n",
       "      <td>306.19</td>\n",
       "      <td>308.37</td>\n",
       "      <td>290.03</td>\n",
       "      <td>305.59</td>\n",
       "      <td>604314570</td>\n",
       "    </tr>\n",
       "    <tr>\n",
       "      <th>20</th>\n",
       "      <td>SBER</td>\n",
       "      <td>M</td>\n",
       "      <td>20210801</td>\n",
       "      <td>0</td>\n",
       "      <td>306.31</td>\n",
       "      <td>338.99</td>\n",
       "      <td>306.06</td>\n",
       "      <td>327.94</td>\n",
       "      <td>752229330</td>\n",
       "    </tr>\n",
       "    <tr>\n",
       "      <th>21</th>\n",
       "      <td>SBER</td>\n",
       "      <td>M</td>\n",
       "      <td>20210901</td>\n",
       "      <td>0</td>\n",
       "      <td>328.87</td>\n",
       "      <td>342.20</td>\n",
       "      <td>322.39</td>\n",
       "      <td>340.99</td>\n",
       "      <td>803141320</td>\n",
       "    </tr>\n",
       "    <tr>\n",
       "      <th>22</th>\n",
       "      <td>SBER</td>\n",
       "      <td>M</td>\n",
       "      <td>20211001</td>\n",
       "      <td>0</td>\n",
       "      <td>339.21</td>\n",
       "      <td>388.11</td>\n",
       "      <td>336.08</td>\n",
       "      <td>356.14</td>\n",
       "      <td>983995470</td>\n",
       "    </tr>\n",
       "    <tr>\n",
       "      <th>23</th>\n",
       "      <td>SBER</td>\n",
       "      <td>M</td>\n",
       "      <td>20211101</td>\n",
       "      <td>0</td>\n",
       "      <td>356.14</td>\n",
       "      <td>374.00</td>\n",
       "      <td>300.10</td>\n",
       "      <td>315.00</td>\n",
       "      <td>1401061380</td>\n",
       "    </tr>\n",
       "    <tr>\n",
       "      <th>24</th>\n",
       "      <td>SBER</td>\n",
       "      <td>M</td>\n",
       "      <td>20211201</td>\n",
       "      <td>0</td>\n",
       "      <td>321.35</td>\n",
       "      <td>329.44</td>\n",
       "      <td>261.50</td>\n",
       "      <td>293.49</td>\n",
       "      <td>1995340960</td>\n",
       "    </tr>\n",
       "    <tr>\n",
       "      <th>25</th>\n",
       "      <td>SBER</td>\n",
       "      <td>M</td>\n",
       "      <td>20220101</td>\n",
       "      <td>0</td>\n",
       "      <td>295.90</td>\n",
       "      <td>310.10</td>\n",
       "      <td>221.03</td>\n",
       "      <td>269.42</td>\n",
       "      <td>4241223320</td>\n",
       "    </tr>\n",
       "    <tr>\n",
       "      <th>26</th>\n",
       "      <td>SBER</td>\n",
       "      <td>M</td>\n",
       "      <td>20220201</td>\n",
       "      <td>0</td>\n",
       "      <td>269.71</td>\n",
       "      <td>282.30</td>\n",
       "      <td>89.59</td>\n",
       "      <td>131.12</td>\n",
       "      <td>6064909530</td>\n",
       "    </tr>\n",
       "    <tr>\n",
       "      <th>27</th>\n",
       "      <td>SBER</td>\n",
       "      <td>M</td>\n",
       "      <td>20220301</td>\n",
       "      <td>0</td>\n",
       "      <td>131.00</td>\n",
       "      <td>156.20</td>\n",
       "      <td>122.00</td>\n",
       "      <td>143.69</td>\n",
       "      <td>469662380</td>\n",
       "    </tr>\n",
       "    <tr>\n",
       "      <th>28</th>\n",
       "      <td>SBER</td>\n",
       "      <td>M</td>\n",
       "      <td>20220401</td>\n",
       "      <td>0</td>\n",
       "      <td>144.99</td>\n",
       "      <td>169.90</td>\n",
       "      <td>111.50</td>\n",
       "      <td>128.80</td>\n",
       "      <td>1589852680</td>\n",
       "    </tr>\n",
       "    <tr>\n",
       "      <th>29</th>\n",
       "      <td>SBER</td>\n",
       "      <td>M</td>\n",
       "      <td>20220501</td>\n",
       "      <td>0</td>\n",
       "      <td>129.10</td>\n",
       "      <td>131.50</td>\n",
       "      <td>117.10</td>\n",
       "      <td>118.30</td>\n",
       "      <td>707411300</td>\n",
       "    </tr>\n",
       "    <tr>\n",
       "      <th>30</th>\n",
       "      <td>SBER</td>\n",
       "      <td>M</td>\n",
       "      <td>20220601</td>\n",
       "      <td>0</td>\n",
       "      <td>117.50</td>\n",
       "      <td>142.35</td>\n",
       "      <td>115.80</td>\n",
       "      <td>125.20</td>\n",
       "      <td>1068202950</td>\n",
       "    </tr>\n",
       "    <tr>\n",
       "      <th>31</th>\n",
       "      <td>SBER</td>\n",
       "      <td>M</td>\n",
       "      <td>20220701</td>\n",
       "      <td>0</td>\n",
       "      <td>124.50</td>\n",
       "      <td>137.10</td>\n",
       "      <td>122.24</td>\n",
       "      <td>131.90</td>\n",
       "      <td>939492770</td>\n",
       "    </tr>\n",
       "    <tr>\n",
       "      <th>32</th>\n",
       "      <td>SBER</td>\n",
       "      <td>M</td>\n",
       "      <td>20220801</td>\n",
       "      <td>0</td>\n",
       "      <td>131.77</td>\n",
       "      <td>138.34</td>\n",
       "      <td>122.24</td>\n",
       "      <td>134.25</td>\n",
       "      <td>911665050</td>\n",
       "    </tr>\n",
       "    <tr>\n",
       "      <th>33</th>\n",
       "      <td>SBER</td>\n",
       "      <td>M</td>\n",
       "      <td>20220901</td>\n",
       "      <td>0</td>\n",
       "      <td>133.98</td>\n",
       "      <td>145.10</td>\n",
       "      <td>103.40</td>\n",
       "      <td>110.21</td>\n",
       "      <td>1917278690</td>\n",
       "    </tr>\n",
       "    <tr>\n",
       "      <th>34</th>\n",
       "      <td>SBER</td>\n",
       "      <td>M</td>\n",
       "      <td>20221001</td>\n",
       "      <td>0</td>\n",
       "      <td>110.67</td>\n",
       "      <td>128.60</td>\n",
       "      <td>96.50</td>\n",
       "      <td>126.72</td>\n",
       "      <td>1738950620</td>\n",
       "    </tr>\n",
       "    <tr>\n",
       "      <th>35</th>\n",
       "      <td>SBER</td>\n",
       "      <td>M</td>\n",
       "      <td>20221101</td>\n",
       "      <td>0</td>\n",
       "      <td>127.23</td>\n",
       "      <td>141.00</td>\n",
       "      <td>123.75</td>\n",
       "      <td>136.89</td>\n",
       "      <td>993851460</td>\n",
       "    </tr>\n",
       "  </tbody>\n",
       "</table>\n",
       "</div>"
      ],
      "text/plain": [
       "   <TICKER> <PER>    <DATE>  <TIME>  <OPEN>  <HIGH>   <LOW>  <CLOSE>  \\\n",
       "0      SBER     M  20191201       0  234.59  256.00  229.03   254.75   \n",
       "1      SBER     M  20200101       0  255.97  270.80  251.40   252.20   \n",
       "2      SBER     M  20200201       0  251.80  259.77  231.00   233.36   \n",
       "3      SBER     M  20200301       0  238.55  241.00  172.15   187.21   \n",
       "4      SBER     M  20200401       0  183.20  205.44  182.00   197.25   \n",
       "5      SBER     M  20200501       0  195.68  205.00  183.33   200.50   \n",
       "6      SBER     M  20200601       0  203.10  223.15  200.75   203.22   \n",
       "7      SBER     M  20200701       0  205.01  221.98  197.73   221.57   \n",
       "8      SBER     M  20200801       0  222.27  244.04  221.30   226.10   \n",
       "9      SBER     M  20200901       0  226.71  232.60  215.79   229.14   \n",
       "10     SBER     M  20201001       0  229.14  229.90  200.50   200.99   \n",
       "11     SBER     M  20201101       0  200.44  252.88  196.15   249.63   \n",
       "12     SBER     M  20201201       0  250.71  287.74  249.80   271.65   \n",
       "13     SBER     M  20210101       0  274.67  296.07  257.36   258.11   \n",
       "14     SBER     M  20210201       0  260.00  276.48  258.55   270.17   \n",
       "15     SBER     M  20210301       0  273.00  295.72  271.13   291.02   \n",
       "16     SBER     M  20210401       0  292.00  301.84  278.00   297.73   \n",
       "17     SBER     M  20210501       0  298.70  320.19  293.00   310.79   \n",
       "18     SBER     M  20210601       0  312.60  316.58  303.34   306.45   \n",
       "19     SBER     M  20210701       0  306.19  308.37  290.03   305.59   \n",
       "20     SBER     M  20210801       0  306.31  338.99  306.06   327.94   \n",
       "21     SBER     M  20210901       0  328.87  342.20  322.39   340.99   \n",
       "22     SBER     M  20211001       0  339.21  388.11  336.08   356.14   \n",
       "23     SBER     M  20211101       0  356.14  374.00  300.10   315.00   \n",
       "24     SBER     M  20211201       0  321.35  329.44  261.50   293.49   \n",
       "25     SBER     M  20220101       0  295.90  310.10  221.03   269.42   \n",
       "26     SBER     M  20220201       0  269.71  282.30   89.59   131.12   \n",
       "27     SBER     M  20220301       0  131.00  156.20  122.00   143.69   \n",
       "28     SBER     M  20220401       0  144.99  169.90  111.50   128.80   \n",
       "29     SBER     M  20220501       0  129.10  131.50  117.10   118.30   \n",
       "30     SBER     M  20220601       0  117.50  142.35  115.80   125.20   \n",
       "31     SBER     M  20220701       0  124.50  137.10  122.24   131.90   \n",
       "32     SBER     M  20220801       0  131.77  138.34  122.24   134.25   \n",
       "33     SBER     M  20220901       0  133.98  145.10  103.40   110.21   \n",
       "34     SBER     M  20221001       0  110.67  128.60   96.50   126.72   \n",
       "35     SBER     M  20221101       0  127.23  141.00  123.75   136.89   \n",
       "\n",
       "         <VOL>  \n",
       "0    665341440  \n",
       "1    745103430  \n",
       "2    915734170  \n",
       "3   2993191110  \n",
       "4   1764475550  \n",
       "5   1356212500  \n",
       "6   1517022880  \n",
       "7   1085909540  \n",
       "8   1323419970  \n",
       "9   1399555760  \n",
       "10  1485720760  \n",
       "11  2308248000  \n",
       "12  1658371850  \n",
       "13  1469032080  \n",
       "14  1288972520  \n",
       "15  1362873010  \n",
       "16  1205253110  \n",
       "17   978132530  \n",
       "18   698700260  \n",
       "19   604314570  \n",
       "20   752229330  \n",
       "21   803141320  \n",
       "22   983995470  \n",
       "23  1401061380  \n",
       "24  1995340960  \n",
       "25  4241223320  \n",
       "26  6064909530  \n",
       "27   469662380  \n",
       "28  1589852680  \n",
       "29   707411300  \n",
       "30  1068202950  \n",
       "31   939492770  \n",
       "32   911665050  \n",
       "33  1917278690  \n",
       "34  1738950620  \n",
       "35   993851460  "
      ]
     },
     "execution_count": 60,
     "metadata": {},
     "output_type": "execute_result"
    }
   ],
   "source": [
    "data"
   ]
  },
  {
   "cell_type": "code",
   "execution_count": 61,
   "metadata": {},
   "outputs": [],
   "source": [
    "df =data.drop(['<TICKER>', '<PER>','<TIME>','<HIGH>','<LOW>','<CLOSE>','<VOL>'], axis=1)"
   ]
  },
  {
   "cell_type": "code",
   "execution_count": 62,
   "metadata": {},
   "outputs": [],
   "source": [
    "df.rename(columns={'<DATE>':'Дата','<OPEN>':'АКЦИИ'}, inplace=True)"
   ]
  },
  {
   "cell_type": "code",
   "execution_count": 63,
   "metadata": {},
   "outputs": [],
   "source": [
    "df['ДАХОДНОСТЬ']= np.concatenate((np.array([0]),np.array([(df['АКЦИИ'][i]-df['АКЦИИ'][i-1])/df['АКЦИИ'][i-1] for i in range(1,len(df['АКЦИИ']))])))\n",
    "df['t'] = np.arange(1,len(df['ДАХОДНОСТЬ']) +1 )"
   ]
  },
  {
   "cell_type": "code",
   "execution_count": 64,
   "metadata": {},
   "outputs": [],
   "source": [
    "x = df['t']\n",
    "y = df['ДАХОДНОСТЬ']"
   ]
  },
  {
   "cell_type": "code",
   "execution_count": 65,
   "metadata": {},
   "outputs": [
    {
     "data": {
      "text/plain": [
       "Text(0, 0.5, 'ДАХОДНОСТЬ')"
      ]
     },
     "execution_count": 65,
     "metadata": {},
     "output_type": "execute_result"
    },
    {
     "data": {
      "image/png": "[encoded data removed]",
      "text/plain": [
       "<Figure size 432x288 with 1 Axes>"
      ]
     },
     "metadata": {
      "needs_background": "light"
     },
     "output_type": "display_data"
    }
   ],
   "source": [
    "plt.scatter(x,y)\n",
    "plt.xlabel('t')\n",
    "plt.ylabel('ДАХОДНОСТЬ')"
   ]
  },
  {
   "cell_type": "code",
   "execution_count": 66,
   "metadata": {},
   "outputs": [],
   "source": [
    "b1 = (np.mean(df['t']*df['ДАХОДНОСТЬ']) - np.mean(df['t'])*np.mean(df['ДАХОДНОСТЬ']))/(np.mean(df['t']*df['t'])- (np.mean(df['t']))**2)\n",
    "b0 = np.mean(df['ДАХОДНОСТЬ']) - b1*np.mean(df['t'])"
   ]
  },
  {
   "cell_type": "code",
   "execution_count": 67,
   "metadata": {},
   "outputs": [],
   "source": [
    "x1 = np.arange(1,37)\n",
    "y1 = b0 + b1*x1"
   ]
  },
  {
   "cell_type": "code",
   "execution_count": 68,
   "metadata": {},
   "outputs": [
    {
     "data": {
      "text/html": [
       "<div>\n",
       "<style scoped>\n",
       "    .dataframe tbody tr th:only-of-type {\n",
       "        vertical-align: middle;\n",
       "    }\n",
       "\n",
       "    .dataframe tbody tr th {\n",
       "        vertical-align: top;\n",
       "    }\n",
       "\n",
       "    .dataframe thead th {\n",
       "        text-align: right;\n",
       "    }\n",
       "</style>\n",
       "<table border=\"1\" class=\"dataframe\">\n",
       "  <thead>\n",
       "    <tr style=\"text-align: right;\">\n",
       "      <th></th>\n",
       "      <th>Дата</th>\n",
       "      <th>АКЦИИ</th>\n",
       "      <th>ДАХОДНОСТЬ</th>\n",
       "      <th>t</th>\n",
       "      <th>SSE</th>\n",
       "      <th>SSR</th>\n",
       "      <th>SST</th>\n",
       "    </tr>\n",
       "  </thead>\n",
       "  <tbody>\n",
       "    <tr>\n",
       "      <th>0</th>\n",
       "      <td>20191201</td>\n",
       "      <td>234.59</td>\n",
       "      <td>0.000000</td>\n",
       "      <td>1</td>\n",
       "      <td>0.000529</td>\n",
       "      <td>8.958450e-04</td>\n",
       "      <td>0.000048</td>\n",
       "    </tr>\n",
       "    <tr>\n",
       "      <th>1</th>\n",
       "      <td>20200101</td>\n",
       "      <td>255.97</td>\n",
       "      <td>0.091138</td>\n",
       "      <td>2</td>\n",
       "      <td>0.004880</td>\n",
       "      <td>7.963879e-04</td>\n",
       "      <td>0.009619</td>\n",
       "    </tr>\n",
       "    <tr>\n",
       "      <th>2</th>\n",
       "      <td>20200201</td>\n",
       "      <td>251.80</td>\n",
       "      <td>-0.016291</td>\n",
       "      <td>3</td>\n",
       "      <td>0.001286</td>\n",
       "      <td>7.027812e-04</td>\n",
       "      <td>0.000087</td>\n",
       "    </tr>\n",
       "    <tr>\n",
       "      <th>3</th>\n",
       "      <td>20200301</td>\n",
       "      <td>238.55</td>\n",
       "      <td>-0.052621</td>\n",
       "      <td>4</td>\n",
       "      <td>0.004968</td>\n",
       "      <td>6.150250e-04</td>\n",
       "      <td>0.002087</td>\n",
       "    </tr>\n",
       "    <tr>\n",
       "      <th>4</th>\n",
       "      <td>20200401</td>\n",
       "      <td>183.20</td>\n",
       "      <td>-0.232027</td>\n",
       "      <td>5</td>\n",
       "      <td>0.061593</td>\n",
       "      <td>5.331192e-04</td>\n",
       "      <td>0.050665</td>\n",
       "    </tr>\n",
       "    <tr>\n",
       "      <th>5</th>\n",
       "      <td>20200501</td>\n",
       "      <td>195.68</td>\n",
       "      <td>0.068122</td>\n",
       "      <td>6</td>\n",
       "      <td>0.002882</td>\n",
       "      <td>4.570638e-04</td>\n",
       "      <td>0.005634</td>\n",
       "    </tr>\n",
       "    <tr>\n",
       "      <th>6</th>\n",
       "      <td>20200601</td>\n",
       "      <td>203.10</td>\n",
       "      <td>0.037919</td>\n",
       "      <td>7</td>\n",
       "      <td>0.000634</td>\n",
       "      <td>3.868588e-04</td>\n",
       "      <td>0.002012</td>\n",
       "    </tr>\n",
       "    <tr>\n",
       "      <th>7</th>\n",
       "      <td>20200701</td>\n",
       "      <td>205.01</td>\n",
       "      <td>0.009404</td>\n",
       "      <td>8</td>\n",
       "      <td>0.000003</td>\n",
       "      <td>3.225042e-04</td>\n",
       "      <td>0.000267</td>\n",
       "    </tr>\n",
       "    <tr>\n",
       "      <th>8</th>\n",
       "      <td>20200801</td>\n",
       "      <td>222.27</td>\n",
       "      <td>0.084191</td>\n",
       "      <td>9</td>\n",
       "      <td>0.005607</td>\n",
       "      <td>2.640000e-04</td>\n",
       "      <td>0.008304</td>\n",
       "    </tr>\n",
       "    <tr>\n",
       "      <th>9</th>\n",
       "      <td>20200901</td>\n",
       "      <td>226.71</td>\n",
       "      <td>0.019976</td>\n",
       "      <td>10</td>\n",
       "      <td>0.000153</td>\n",
       "      <td>2.113463e-04</td>\n",
       "      <td>0.000724</td>\n",
       "    </tr>\n",
       "    <tr>\n",
       "      <th>10</th>\n",
       "      <td>20201001</td>\n",
       "      <td>229.14</td>\n",
       "      <td>0.010719</td>\n",
       "      <td>11</td>\n",
       "      <td>0.000023</td>\n",
       "      <td>1.645430e-04</td>\n",
       "      <td>0.000312</td>\n",
       "    </tr>\n",
       "    <tr>\n",
       "      <th>11</th>\n",
       "      <td>20201101</td>\n",
       "      <td>200.44</td>\n",
       "      <td>-0.125251</td>\n",
       "      <td>12</td>\n",
       "      <td>0.016752</td>\n",
       "      <td>1.235900e-04</td>\n",
       "      <td>0.013998</td>\n",
       "    </tr>\n",
       "    <tr>\n",
       "      <th>12</th>\n",
       "      <td>20201201</td>\n",
       "      <td>250.71</td>\n",
       "      <td>0.250798</td>\n",
       "      <td>13</td>\n",
       "      <td>0.061667</td>\n",
       "      <td>8.848754e-05</td>\n",
       "      <td>0.066428</td>\n",
       "    </tr>\n",
       "    <tr>\n",
       "      <th>13</th>\n",
       "      <td>20210101</td>\n",
       "      <td>274.67</td>\n",
       "      <td>0.095569</td>\n",
       "      <td>14</td>\n",
       "      <td>0.008989</td>\n",
       "      <td>5.923546e-05</td>\n",
       "      <td>0.010507</td>\n",
       "    </tr>\n",
       "    <tr>\n",
       "      <th>14</th>\n",
       "      <td>20210201</td>\n",
       "      <td>260.00</td>\n",
       "      <td>-0.053410</td>\n",
       "      <td>15</td>\n",
       "      <td>0.002752</td>\n",
       "      <td>3.583380e-05</td>\n",
       "      <td>0.002160</td>\n",
       "    </tr>\n",
       "    <tr>\n",
       "      <th>15</th>\n",
       "      <td>20210301</td>\n",
       "      <td>273.00</td>\n",
       "      <td>0.050000</td>\n",
       "      <td>16</td>\n",
       "      <td>0.002773</td>\n",
       "      <td>1.828255e-05</td>\n",
       "      <td>0.003242</td>\n",
       "    </tr>\n",
       "    <tr>\n",
       "      <th>16</th>\n",
       "      <td>20210401</td>\n",
       "      <td>292.00</td>\n",
       "      <td>0.069597</td>\n",
       "      <td>17</td>\n",
       "      <td>0.005471</td>\n",
       "      <td>6.581718e-06</td>\n",
       "      <td>0.005858</td>\n",
       "    </tr>\n",
       "    <tr>\n",
       "      <th>17</th>\n",
       "      <td>20210501</td>\n",
       "      <td>298.70</td>\n",
       "      <td>0.022945</td>\n",
       "      <td>18</td>\n",
       "      <td>0.000843</td>\n",
       "      <td>7.313020e-07</td>\n",
       "      <td>0.000893</td>\n",
       "    </tr>\n",
       "    <tr>\n",
       "      <th>18</th>\n",
       "      <td>20210601</td>\n",
       "      <td>312.60</td>\n",
       "      <td>0.046535</td>\n",
       "      <td>19</td>\n",
       "      <td>0.002951</td>\n",
       "      <td>7.313020e-07</td>\n",
       "      <td>0.002859</td>\n",
       "    </tr>\n",
       "    <tr>\n",
       "      <th>19</th>\n",
       "      <td>20210701</td>\n",
       "      <td>306.19</td>\n",
       "      <td>-0.020505</td>\n",
       "      <td>20</td>\n",
       "      <td>0.000121</td>\n",
       "      <td>6.581718e-06</td>\n",
       "      <td>0.000184</td>\n",
       "    </tr>\n",
       "    <tr>\n",
       "      <th>20</th>\n",
       "      <td>20210801</td>\n",
       "      <td>306.31</td>\n",
       "      <td>0.000392</td>\n",
       "      <td>21</td>\n",
       "      <td>0.000135</td>\n",
       "      <td>1.828255e-05</td>\n",
       "      <td>0.000054</td>\n",
       "    </tr>\n",
       "    <tr>\n",
       "      <th>21</th>\n",
       "      <td>20210901</td>\n",
       "      <td>328.87</td>\n",
       "      <td>0.073651</td>\n",
       "      <td>22</td>\n",
       "      <td>0.007495</td>\n",
       "      <td>3.583380e-05</td>\n",
       "      <td>0.006494</td>\n",
       "    </tr>\n",
       "    <tr>\n",
       "      <th>22</th>\n",
       "      <td>20211001</td>\n",
       "      <td>339.21</td>\n",
       "      <td>0.031441</td>\n",
       "      <td>23</td>\n",
       "      <td>0.002123</td>\n",
       "      <td>5.923546e-05</td>\n",
       "      <td>0.001473</td>\n",
       "    </tr>\n",
       "    <tr>\n",
       "      <th>23</th>\n",
       "      <td>20211101</td>\n",
       "      <td>356.14</td>\n",
       "      <td>0.049910</td>\n",
       "      <td>24</td>\n",
       "      <td>0.004390</td>\n",
       "      <td>8.848754e-05</td>\n",
       "      <td>0.003232</td>\n",
       "    </tr>\n",
       "    <tr>\n",
       "      <th>24</th>\n",
       "      <td>20211201</td>\n",
       "      <td>321.35</td>\n",
       "      <td>-0.097686</td>\n",
       "      <td>25</td>\n",
       "      <td>0.006341</td>\n",
       "      <td>1.235900e-04</td>\n",
       "      <td>0.008235</td>\n",
       "    </tr>\n",
       "    <tr>\n",
       "      <th>25</th>\n",
       "      <td>20220101</td>\n",
       "      <td>295.90</td>\n",
       "      <td>-0.079197</td>\n",
       "      <td>26</td>\n",
       "      <td>0.003532</td>\n",
       "      <td>1.645430e-04</td>\n",
       "      <td>0.005221</td>\n",
       "    </tr>\n",
       "    <tr>\n",
       "      <th>26</th>\n",
       "      <td>20220201</td>\n",
       "      <td>269.71</td>\n",
       "      <td>-0.088510</td>\n",
       "      <td>27</td>\n",
       "      <td>0.004494</td>\n",
       "      <td>2.113463e-04</td>\n",
       "      <td>0.006654</td>\n",
       "    </tr>\n",
       "    <tr>\n",
       "      <th>27</th>\n",
       "      <td>20220301</td>\n",
       "      <td>131.00</td>\n",
       "      <td>-0.514293</td>\n",
       "      <td>28</td>\n",
       "      <td>0.241187</td>\n",
       "      <td>2.640000e-04</td>\n",
       "      <td>0.257410</td>\n",
       "    </tr>\n",
       "    <tr>\n",
       "      <th>28</th>\n",
       "      <td>20220401</td>\n",
       "      <td>144.99</td>\n",
       "      <td>0.106794</td>\n",
       "      <td>29</td>\n",
       "      <td>0.017342</td>\n",
       "      <td>3.225042e-04</td>\n",
       "      <td>0.012935</td>\n",
       "    </tr>\n",
       "    <tr>\n",
       "      <th>29</th>\n",
       "      <td>20220501</td>\n",
       "      <td>129.10</td>\n",
       "      <td>-0.109594</td>\n",
       "      <td>30</td>\n",
       "      <td>0.006887</td>\n",
       "      <td>3.868588e-04</td>\n",
       "      <td>0.010538</td>\n",
       "    </tr>\n",
       "    <tr>\n",
       "      <th>30</th>\n",
       "      <td>20220601</td>\n",
       "      <td>117.50</td>\n",
       "      <td>-0.089853</td>\n",
       "      <td>31</td>\n",
       "      <td>0.003787</td>\n",
       "      <td>4.570638e-04</td>\n",
       "      <td>0.006875</td>\n",
       "    </tr>\n",
       "    <tr>\n",
       "      <th>31</th>\n",
       "      <td>20220701</td>\n",
       "      <td>124.50</td>\n",
       "      <td>0.059574</td>\n",
       "      <td>32</td>\n",
       "      <td>0.008028</td>\n",
       "      <td>5.331192e-04</td>\n",
       "      <td>0.004424</td>\n",
       "    </tr>\n",
       "    <tr>\n",
       "      <th>32</th>\n",
       "      <td>20220801</td>\n",
       "      <td>131.77</td>\n",
       "      <td>0.058394</td>\n",
       "      <td>33</td>\n",
       "      <td>0.008124</td>\n",
       "      <td>6.150250e-04</td>\n",
       "      <td>0.004268</td>\n",
       "    </tr>\n",
       "    <tr>\n",
       "      <th>33</th>\n",
       "      <td>20220901</td>\n",
       "      <td>133.98</td>\n",
       "      <td>0.016772</td>\n",
       "      <td>34</td>\n",
       "      <td>0.002522</td>\n",
       "      <td>7.027812e-04</td>\n",
       "      <td>0.000562</td>\n",
       "    </tr>\n",
       "    <tr>\n",
       "      <th>34</th>\n",
       "      <td>20221001</td>\n",
       "      <td>110.67</td>\n",
       "      <td>-0.173981</td>\n",
       "      <td>35</td>\n",
       "      <td>0.019272</td>\n",
       "      <td>7.963879e-04</td>\n",
       "      <td>0.027904</td>\n",
       "    </tr>\n",
       "    <tr>\n",
       "      <th>35</th>\n",
       "      <td>20221101</td>\n",
       "      <td>127.23</td>\n",
       "      <td>0.149634</td>\n",
       "      <td>36</td>\n",
       "      <td>0.034783</td>\n",
       "      <td>8.958450e-04</td>\n",
       "      <td>0.024515</td>\n",
       "    </tr>\n",
       "  </tbody>\n",
       "</table>\n",
       "</div>"
      ],
      "text/plain": [
       "        Дата   АКЦИИ  ДАХОДНОСТЬ   t       SSE           SSR       SST\n",
       "0   20191201  234.59    0.000000   1  0.000529  8.958450e-04  0.000048\n",
       "1   20200101  255.97    0.091138   2  0.004880  7.963879e-04  0.009619\n",
       "2   20200201  251.80   -0.016291   3  0.001286  7.027812e-04  0.000087\n",
       "3   20200301  238.55   -0.052621   4  0.004968  6.150250e-04  0.002087\n",
       "4   20200401  183.20   -0.232027   5  0.061593  5.331192e-04  0.050665\n",
       "5   20200501  195.68    0.068122   6  0.002882  4.570638e-04  0.005634\n",
       "6   20200601  203.10    0.037919   7  0.000634  3.868588e-04  0.002012\n",
       "7   20200701  205.01    0.009404   8  0.000003  3.225042e-04  0.000267\n",
       "8   20200801  222.27    0.084191   9  0.005607  2.640000e-04  0.008304\n",
       "9   20200901  226.71    0.019976  10  0.000153  2.113463e-04  0.000724\n",
       "10  20201001  229.14    0.010719  11  0.000023  1.645430e-04  0.000312\n",
       "11  20201101  200.44   -0.125251  12  0.016752  1.235900e-04  0.013998\n",
       "12  20201201  250.71    0.250798  13  0.061667  8.848754e-05  0.066428\n",
       "13  20210101  274.67    0.095569  14  0.008989  5.923546e-05  0.010507\n",
       "14  20210201  260.00   -0.053410  15  0.002752  3.583380e-05  0.002160\n",
       "15  20210301  273.00    0.050000  16  0.002773  1.828255e-05  0.003242\n",
       "16  20210401  292.00    0.069597  17  0.005471  6.581718e-06  0.005858\n",
       "17  20210501  298.70    0.022945  18  0.000843  7.313020e-07  0.000893\n",
       "18  20210601  312.60    0.046535  19  0.002951  7.313020e-07  0.002859\n",
       "19  20210701  306.19   -0.020505  20  0.000121  6.581718e-06  0.000184\n",
       "20  20210801  306.31    0.000392  21  0.000135  1.828255e-05  0.000054\n",
       "21  20210901  328.87    0.073651  22  0.007495  3.583380e-05  0.006494\n",
       "22  20211001  339.21    0.031441  23  0.002123  5.923546e-05  0.001473\n",
       "23  20211101  356.14    0.049910  24  0.004390  8.848754e-05  0.003232\n",
       "24  20211201  321.35   -0.097686  25  0.006341  1.235900e-04  0.008235\n",
       "25  20220101  295.90   -0.079197  26  0.003532  1.645430e-04  0.005221\n",
       "26  20220201  269.71   -0.088510  27  0.004494  2.113463e-04  0.006654\n",
       "27  20220301  131.00   -0.514293  28  0.241187  2.640000e-04  0.257410\n",
       "28  20220401  144.99    0.106794  29  0.017342  3.225042e-04  0.012935\n",
       "29  20220501  129.10   -0.109594  30  0.006887  3.868588e-04  0.010538\n",
       "30  20220601  117.50   -0.089853  31  0.003787  4.570638e-04  0.006875\n",
       "31  20220701  124.50    0.059574  32  0.008028  5.331192e-04  0.004424\n",
       "32  20220801  131.77    0.058394  33  0.008124  6.150250e-04  0.004268\n",
       "33  20220901  133.98    0.016772  34  0.002522  7.027812e-04  0.000562\n",
       "34  20221001  110.67   -0.173981  35  0.019272  7.963879e-04  0.027904\n",
       "35  20221101  127.23    0.149634  36  0.034783  8.958450e-04  0.024515"
      ]
     },
     "execution_count": 68,
     "metadata": {},
     "output_type": "execute_result"
    }
   ],
   "source": [
    "df['SSE'] = (df['ДАХОДНОСТЬ'] - b0 - b1*df['t'])**2\n",
    "df['SSR'] = (np.mean(df['ДАХОДНОСТЬ']) - b0 - b1*df['t'])**2\n",
    "df['SST'] = (np.mean(df['ДАХОДНОСТЬ']) - df['ДАХОДНОСТЬ'])**2\n",
    "df"
   ]
  },
  {
   "cell_type": "code",
   "execution_count": 69,
   "metadata": {},
   "outputs": [
    {
     "data": {
      "text/plain": [
       "<matplotlib.legend.Legend at 0x209d1c78d30>"
      ]
     },
     "execution_count": 69,
     "metadata": {},
     "output_type": "execute_result"
    },
    {
     "data": {
      "image/png": "[encoded data removed]",
      "text/plain": [
       "<Figure size 432x288 with 1 Axes>"
      ]
     },
     "metadata": {
      "needs_background": "light"
     },
     "output_type": "display_data"
    }
   ],
   "source": [
    "plt.scatter(x,y)\n",
    "plt.plot(x1,y1)\n",
    "plt.xlabel('t')\n",
    "plt.ylabel('ДАХОДНОСТЬ')\n",
    "plt.legend(['y = b0 + b1'])"
   ]
  },
  {
   "cell_type": "markdown",
   "metadata": {},
   "source": [
    "$$\n",
    "t Test\n",
    "$$\n",
    "$$\n",
    "H_0 : \\beta_1 = 0\n",
    "$$\n",
    "$$\n",
    "H_1 : \\beta_1 \\ne 0\n",
    "$$"
   ]
  },
  {
   "cell_type": "markdown",
   "metadata": {},
   "source": [
    "$$\n",
    "T_0 = \\frac{\\beta_1}{se(\\beta_1)}\n",
    "$$"
   ]
  },
  {
   "cell_type": "markdown",
   "metadata": {},
   "source": [
    "$$\n",
    "se(\\beta_1) = \\sqrt\\frac{\\frac{\\Sigma_{i=1}^n{e_{i}^2}}{n-2}}{\\Sigma_{i=1}^n{(x_i - x^-)^2}}\n",
    "$$"
   ]
  },
  {
   "cell_type": "markdown",
   "metadata": {},
   "source": [
    "принимаем\n",
    "$$\n",
    "H_0\n",
    "$$ \n",
    "если \n",
    "$$\n",
    "-t(\\frac{\\alpha}{2},n-2) < T_0 < t(\\frac{\\alpha}{2},n-2)\n",
    "$$"
   ]
  },
  {
   "cell_type": "code",
   "execution_count": 70,
   "metadata": {},
   "outputs": [],
   "source": [
    "T0 = b1/np.sqrt((sum(df['SSE'])/34)/sum((df['t'] - np.mean(df['t']))**2))"
   ]
  },
  {
   "cell_type": "code",
   "execution_count": 71,
   "metadata": {},
   "outputs": [
    {
     "data": {
      "text/plain": [
       "-0.8341466173752556"
      ]
     },
     "execution_count": 71,
     "metadata": {},
     "output_type": "execute_result"
    }
   ],
   "source": [
    "T0"
   ]
  },
  {
   "cell_type": "markdown",
   "metadata": {},
   "source": [
    "$$\n",
    "\\alpha = 0.05\n",
    "$$\n",
    "$$\n",
    "степени свободы = 36 -2 = 34\n",
    "$$"
   ]
  },
  {
   "cell_type": "markdown",
   "metadata": {},
   "source": [
    "$$\n",
    "t(0.025,n-2) = 2.441\n",
    "$$"
   ]
  },
  {
   "cell_type": "markdown",
   "metadata": {},
   "source": [
    "нету линейной зависимости ДАХОДНОСТЬ от t"
   ]
  },
  {
   "cell_type": "markdown",
   "metadata": {},
   "source": [
    "# $$\n",
    "F Test\n",
    "$$"
   ]
  },
  {
   "cell_type": "markdown",
   "metadata": {},
   "source": [
    "\n",
    "$$\n",
    "H_0 : \\beta_1 = 0\n",
    "$$\n",
    "$$\n",
    "H_1 : \\beta_1 \\ne 0\n",
    "$$"
   ]
  },
  {
   "cell_type": "markdown",
   "metadata": {},
   "source": [
    "$$\n",
    "Мы\n",
    "$$\n",
    "$$\n",
    "принимаем \n",
    "$$\n",
    "$$\n",
    "H_0 если  F_0 < f_(\\alpha,1,n-2)\n",
    "$$"
   ]
  },
  {
   "cell_type": "markdown",
   "metadata": {},
   "source": [
    "$$\n",
    "F_0 = \\frac{MSSR}{MSSE} = \\frac{\\frac{SSR}{1}}{\\frac{SSE}{n-2}}\n",
    "$$"
   ]
  },
  {
   "cell_type": "code",
   "execution_count": 72,
   "metadata": {},
   "outputs": [
    {
     "data": {
      "text/plain": [
       "0.695800579278581"
      ]
     },
     "execution_count": 72,
     "metadata": {},
     "output_type": "execute_result"
    }
   ],
   "source": [
    "F0 = sum(df['SSR'])/(sum(df['SSE'])/34)\n",
    "F0"
   ]
  },
  {
   "cell_type": "markdown",
   "metadata": {},
   "source": [
    "$$\n",
    " f_(0.1,1,34) = 2.85\n",
    "$$"
   ]
  },
  {
   "cell_type": "markdown",
   "metadata": {},
   "source": [
    "нету линейной зависимости ДАХОДНОСТЬ от t"
   ]
  },
  {
   "cell_type": "markdown",
   "metadata": {},
   "source": [
    "Coefficient of Determination "
   ]
  },
  {
   "cell_type": "code",
   "execution_count": 17,
   "metadata": {},
   "outputs": [
    {
     "data": {
      "text/plain": [
       "0.020054316881626733"
      ]
     },
     "execution_count": 17,
     "metadata": {},
     "output_type": "execute_result"
    }
   ],
   "source": [
    "R = sum(df['SSR'])/sum(df['SST'])\n",
    "R"
   ]
  },
  {
   "cell_type": "markdown",
   "metadata": {},
   "source": [
    "# Доверительный интервал для коэффициентов регрессии"
   ]
  },
  {
   "cell_type": "markdown",
   "metadata": {},
   "source": [
    "$$\n",
    "\\beta_1^- - t_(\\frac{\\alpha}{2},n-2).se(\\beta_1^-)<\\beta_1<\\beta_1^- + t_(\\frac{\\alpha}{2},n-2).se(\\beta_1^-)\n",
    "$$"
   ]
  },
  {
   "cell_type": "code",
   "execution_count": 18,
   "metadata": {},
   "outputs": [
    {
     "data": {
      "text/plain": [
       "-0.006715320340229643"
      ]
     },
     "execution_count": 18,
     "metadata": {},
     "output_type": "execute_result"
    }
   ],
   "source": [
    "b1 - 2.441*np.sqrt((sum(df['SSE'])/34)/sum((df['t'] - np.mean(df['t']))**2))"
   ]
  },
  {
   "cell_type": "code",
   "execution_count": 19,
   "metadata": {},
   "outputs": [
    {
     "data": {
      "text/plain": [
       "0.0032946724115680733"
      ]
     },
     "execution_count": 19,
     "metadata": {},
     "output_type": "execute_result"
    }
   ],
   "source": [
    "b1 + 2.441*np.sqrt((sum(df['SSE'])/34)/sum((df['t'] - np.mean(df['t']))**2))"
   ]
  },
  {
   "cell_type": "markdown",
   "metadata": {},
   "source": [
    "$$\n",
    "-0.006715320340229643<\\beta_1 >0.0032946724115680733\n",
    "$$"
   ]
  },
  {
   "cell_type": "markdown",
   "metadata": {},
   "source": [
    "$$\n",
    "\\beta_0^- - t_(\\frac{\\alpha}{2},n-2).se(\\beta_0^-)<\\beta_0<\\beta_0^- + t_(\\frac{\\alpha}{2},n-2).se(\\beta_0^-)\n",
    "$$"
   ]
  },
  {
   "cell_type": "markdown",
   "metadata": {},
   "source": [
    "$$\n",
    "se(\\beta_0^-) = \\sqrt{\\frac{\\Sigma_{i=1}^ne^2}{n-2}[ \\ {\\frac{1}{n}+\\frac{x^{-2}}{\\Sigma_{i=1}^n(x-x^-)^2}}] \\ }\n",
    "$$"
   ]
  },
  {
   "cell_type": "code",
   "execution_count": 20,
   "metadata": {},
   "outputs": [
    {
     "data": {
      "text/plain": [
       "-0.03157011954310429"
      ]
     },
     "execution_count": 20,
     "metadata": {},
     "output_type": "execute_result"
    }
   ],
   "source": [
    "b0 - 2.441*np.sqrt((sum(df['SSE'])/34)*(1/36 + (np.mean(df['t']))/sum((df['t'] - np.mean(df['t']))**2)))"
   ]
  },
  {
   "cell_type": "code",
   "execution_count": 21,
   "metadata": {},
   "outputs": [
    {
     "data": {
      "text/plain": [
       "0.08097740063160234"
      ]
     },
     "execution_count": 21,
     "metadata": {},
     "output_type": "execute_result"
    }
   ],
   "source": [
    "b0 + 2.441*np.sqrt((sum(df['SSE'])/34)*(1/36 + (np.mean(df['t']))/sum((df['t'] - np.mean(df['t']))**2)))"
   ]
  },
  {
   "cell_type": "markdown",
   "metadata": {},
   "source": [
    "$$\n",
    "-0.03157011954310429<\\beta_0 > 0.08097740063160234\n",
    "$$"
   ]
  },
  {
   "cell_type": "code",
   "execution_count": 75,
   "metadata": {},
   "outputs": [
    {
     "data": {
      "text/plain": [
       "[<matplotlib.lines.Line2D at 0x209d1d60278>]"
      ]
     },
     "execution_count": 75,
     "metadata": {},
     "output_type": "execute_result"
    },
    {
     "data": {
      "image/png": "[encoded data removed]",
      "text/plain": [
       "<Figure size 432x288 with 1 Axes>"
      ]
     },
     "metadata": {
      "needs_background": "light"
     },
     "output_type": "display_data"
    }
   ],
   "source": [
    "plt.plot(x,y)"
   ]
  },
  {
   "cell_type": "markdown",
   "metadata": {},
   "source": [
    "# Мат ожидание  ,Дисперсия  для  n/2"
   ]
  },
  {
   "cell_type": "code",
   "execution_count": 85,
   "metadata": {},
   "outputs": [
    {
     "data": {
      "text/html": [
       "<div>\n",
       "<style scoped>\n",
       "    .dataframe tbody tr th:only-of-type {\n",
       "        vertical-align: middle;\n",
       "    }\n",
       "\n",
       "    .dataframe tbody tr th {\n",
       "        vertical-align: top;\n",
       "    }\n",
       "\n",
       "    .dataframe thead th {\n",
       "        text-align: right;\n",
       "    }\n",
       "</style>\n",
       "<table border=\"1\" class=\"dataframe\">\n",
       "  <thead>\n",
       "    <tr style=\"text-align: right;\">\n",
       "      <th></th>\n",
       "      <th>t</th>\n",
       "      <th>Дата</th>\n",
       "      <th>АКЦИИ</th>\n",
       "      <th>ДАХОДНОСТЬ</th>\n",
       "      <th>e</th>\n",
       "    </tr>\n",
       "  </thead>\n",
       "  <tbody>\n",
       "    <tr>\n",
       "      <th>0</th>\n",
       "      <td>1</td>\n",
       "      <td>20191201</td>\n",
       "      <td>234.59</td>\n",
       "      <td>0.000000</td>\n",
       "      <td>-0.022993</td>\n",
       "    </tr>\n",
       "    <tr>\n",
       "      <th>1</th>\n",
       "      <td>2</td>\n",
       "      <td>20200101</td>\n",
       "      <td>255.97</td>\n",
       "      <td>0.091138</td>\n",
       "      <td>0.069855</td>\n",
       "    </tr>\n",
       "    <tr>\n",
       "      <th>2</th>\n",
       "      <td>3</td>\n",
       "      <td>20200201</td>\n",
       "      <td>251.80</td>\n",
       "      <td>-0.016291</td>\n",
       "      <td>-0.035864</td>\n",
       "    </tr>\n",
       "    <tr>\n",
       "      <th>3</th>\n",
       "      <td>4</td>\n",
       "      <td>20200301</td>\n",
       "      <td>238.55</td>\n",
       "      <td>-0.052621</td>\n",
       "      <td>-0.070483</td>\n",
       "    </tr>\n",
       "    <tr>\n",
       "      <th>4</th>\n",
       "      <td>5</td>\n",
       "      <td>20200401</td>\n",
       "      <td>183.20</td>\n",
       "      <td>-0.232027</td>\n",
       "      <td>-0.248179</td>\n",
       "    </tr>\n",
       "    <tr>\n",
       "      <th>5</th>\n",
       "      <td>6</td>\n",
       "      <td>20200501</td>\n",
       "      <td>195.68</td>\n",
       "      <td>0.068122</td>\n",
       "      <td>0.053681</td>\n",
       "    </tr>\n",
       "    <tr>\n",
       "      <th>6</th>\n",
       "      <td>7</td>\n",
       "      <td>20200601</td>\n",
       "      <td>203.10</td>\n",
       "      <td>0.037919</td>\n",
       "      <td>0.025188</td>\n",
       "    </tr>\n",
       "    <tr>\n",
       "      <th>7</th>\n",
       "      <td>8</td>\n",
       "      <td>20200701</td>\n",
       "      <td>205.01</td>\n",
       "      <td>0.009404</td>\n",
       "      <td>-0.001617</td>\n",
       "    </tr>\n",
       "    <tr>\n",
       "      <th>8</th>\n",
       "      <td>9</td>\n",
       "      <td>20200801</td>\n",
       "      <td>222.27</td>\n",
       "      <td>0.084191</td>\n",
       "      <td>0.074880</td>\n",
       "    </tr>\n",
       "    <tr>\n",
       "      <th>9</th>\n",
       "      <td>10</td>\n",
       "      <td>20200901</td>\n",
       "      <td>226.71</td>\n",
       "      <td>0.019976</td>\n",
       "      <td>0.012375</td>\n",
       "    </tr>\n",
       "    <tr>\n",
       "      <th>10</th>\n",
       "      <td>11</td>\n",
       "      <td>20201001</td>\n",
       "      <td>229.14</td>\n",
       "      <td>0.010719</td>\n",
       "      <td>0.004828</td>\n",
       "    </tr>\n",
       "    <tr>\n",
       "      <th>11</th>\n",
       "      <td>12</td>\n",
       "      <td>20201101</td>\n",
       "      <td>200.44</td>\n",
       "      <td>-0.125251</td>\n",
       "      <td>-0.129431</td>\n",
       "    </tr>\n",
       "    <tr>\n",
       "      <th>12</th>\n",
       "      <td>13</td>\n",
       "      <td>20201201</td>\n",
       "      <td>250.71</td>\n",
       "      <td>0.250798</td>\n",
       "      <td>0.248329</td>\n",
       "    </tr>\n",
       "    <tr>\n",
       "      <th>13</th>\n",
       "      <td>14</td>\n",
       "      <td>20210101</td>\n",
       "      <td>274.67</td>\n",
       "      <td>0.095569</td>\n",
       "      <td>0.094809</td>\n",
       "    </tr>\n",
       "    <tr>\n",
       "      <th>14</th>\n",
       "      <td>15</td>\n",
       "      <td>20210201</td>\n",
       "      <td>260.00</td>\n",
       "      <td>-0.053410</td>\n",
       "      <td>-0.052458</td>\n",
       "    </tr>\n",
       "    <tr>\n",
       "      <th>15</th>\n",
       "      <td>16</td>\n",
       "      <td>20210301</td>\n",
       "      <td>273.00</td>\n",
       "      <td>0.050000</td>\n",
       "      <td>0.052662</td>\n",
       "    </tr>\n",
       "    <tr>\n",
       "      <th>16</th>\n",
       "      <td>17</td>\n",
       "      <td>20210401</td>\n",
       "      <td>292.00</td>\n",
       "      <td>0.069597</td>\n",
       "      <td>0.073969</td>\n",
       "    </tr>\n",
       "    <tr>\n",
       "      <th>17</th>\n",
       "      <td>18</td>\n",
       "      <td>20210501</td>\n",
       "      <td>298.70</td>\n",
       "      <td>0.022945</td>\n",
       "      <td>0.029027</td>\n",
       "    </tr>\n",
       "    <tr>\n",
       "      <th>18</th>\n",
       "      <td>19</td>\n",
       "      <td>20210601</td>\n",
       "      <td>312.60</td>\n",
       "      <td>0.046535</td>\n",
       "      <td>0.054327</td>\n",
       "    </tr>\n",
       "    <tr>\n",
       "      <th>19</th>\n",
       "      <td>20</td>\n",
       "      <td>20210701</td>\n",
       "      <td>306.19</td>\n",
       "      <td>-0.020505</td>\n",
       "      <td>-0.011003</td>\n",
       "    </tr>\n",
       "    <tr>\n",
       "      <th>20</th>\n",
       "      <td>21</td>\n",
       "      <td>20210801</td>\n",
       "      <td>306.31</td>\n",
       "      <td>0.000392</td>\n",
       "      <td>0.011605</td>\n",
       "    </tr>\n",
       "    <tr>\n",
       "      <th>21</th>\n",
       "      <td>22</td>\n",
       "      <td>20210901</td>\n",
       "      <td>328.87</td>\n",
       "      <td>0.073651</td>\n",
       "      <td>0.086574</td>\n",
       "    </tr>\n",
       "    <tr>\n",
       "      <th>22</th>\n",
       "      <td>23</td>\n",
       "      <td>20211001</td>\n",
       "      <td>339.21</td>\n",
       "      <td>0.031441</td>\n",
       "      <td>0.046075</td>\n",
       "    </tr>\n",
       "    <tr>\n",
       "      <th>23</th>\n",
       "      <td>24</td>\n",
       "      <td>20211101</td>\n",
       "      <td>356.14</td>\n",
       "      <td>0.049910</td>\n",
       "      <td>0.066254</td>\n",
       "    </tr>\n",
       "    <tr>\n",
       "      <th>24</th>\n",
       "      <td>25</td>\n",
       "      <td>20211201</td>\n",
       "      <td>321.35</td>\n",
       "      <td>-0.097686</td>\n",
       "      <td>-0.079632</td>\n",
       "    </tr>\n",
       "    <tr>\n",
       "      <th>25</th>\n",
       "      <td>26</td>\n",
       "      <td>20220101</td>\n",
       "      <td>295.90</td>\n",
       "      <td>-0.079197</td>\n",
       "      <td>-0.059432</td>\n",
       "    </tr>\n",
       "    <tr>\n",
       "      <th>26</th>\n",
       "      <td>27</td>\n",
       "      <td>20220201</td>\n",
       "      <td>269.71</td>\n",
       "      <td>-0.088510</td>\n",
       "      <td>-0.067035</td>\n",
       "    </tr>\n",
       "    <tr>\n",
       "      <th>27</th>\n",
       "      <td>28</td>\n",
       "      <td>20220301</td>\n",
       "      <td>131.00</td>\n",
       "      <td>-0.514293</td>\n",
       "      <td>-0.491108</td>\n",
       "    </tr>\n",
       "    <tr>\n",
       "      <th>28</th>\n",
       "      <td>29</td>\n",
       "      <td>20220401</td>\n",
       "      <td>144.99</td>\n",
       "      <td>0.106794</td>\n",
       "      <td>0.131690</td>\n",
       "    </tr>\n",
       "    <tr>\n",
       "      <th>29</th>\n",
       "      <td>30</td>\n",
       "      <td>20220501</td>\n",
       "      <td>129.10</td>\n",
       "      <td>-0.109594</td>\n",
       "      <td>-0.082988</td>\n",
       "    </tr>\n",
       "    <tr>\n",
       "      <th>30</th>\n",
       "      <td>31</td>\n",
       "      <td>20220601</td>\n",
       "      <td>117.50</td>\n",
       "      <td>-0.089853</td>\n",
       "      <td>-0.061536</td>\n",
       "    </tr>\n",
       "    <tr>\n",
       "      <th>31</th>\n",
       "      <td>32</td>\n",
       "      <td>20220701</td>\n",
       "      <td>124.50</td>\n",
       "      <td>0.059574</td>\n",
       "      <td>0.089601</td>\n",
       "    </tr>\n",
       "    <tr>\n",
       "      <th>32</th>\n",
       "      <td>33</td>\n",
       "      <td>20220801</td>\n",
       "      <td>131.77</td>\n",
       "      <td>0.058394</td>\n",
       "      <td>0.090131</td>\n",
       "    </tr>\n",
       "    <tr>\n",
       "      <th>33</th>\n",
       "      <td>34</td>\n",
       "      <td>20220901</td>\n",
       "      <td>133.98</td>\n",
       "      <td>0.016772</td>\n",
       "      <td>0.050219</td>\n",
       "    </tr>\n",
       "    <tr>\n",
       "      <th>34</th>\n",
       "      <td>35</td>\n",
       "      <td>20221001</td>\n",
       "      <td>110.67</td>\n",
       "      <td>-0.173981</td>\n",
       "      <td>-0.138823</td>\n",
       "    </tr>\n",
       "    <tr>\n",
       "      <th>35</th>\n",
       "      <td>36</td>\n",
       "      <td>20221101</td>\n",
       "      <td>127.23</td>\n",
       "      <td>0.149634</td>\n",
       "      <td>0.186502</td>\n",
       "    </tr>\n",
       "  </tbody>\n",
       "</table>\n",
       "</div>"
      ],
      "text/plain": [
       "     t      Дата   АКЦИИ  ДАХОДНОСТЬ         e\n",
       "0    1  20191201  234.59    0.000000 -0.022993\n",
       "1    2  20200101  255.97    0.091138  0.069855\n",
       "2    3  20200201  251.80   -0.016291 -0.035864\n",
       "3    4  20200301  238.55   -0.052621 -0.070483\n",
       "4    5  20200401  183.20   -0.232027 -0.248179\n",
       "5    6  20200501  195.68    0.068122  0.053681\n",
       "6    7  20200601  203.10    0.037919  0.025188\n",
       "7    8  20200701  205.01    0.009404 -0.001617\n",
       "8    9  20200801  222.27    0.084191  0.074880\n",
       "9   10  20200901  226.71    0.019976  0.012375\n",
       "10  11  20201001  229.14    0.010719  0.004828\n",
       "11  12  20201101  200.44   -0.125251 -0.129431\n",
       "12  13  20201201  250.71    0.250798  0.248329\n",
       "13  14  20210101  274.67    0.095569  0.094809\n",
       "14  15  20210201  260.00   -0.053410 -0.052458\n",
       "15  16  20210301  273.00    0.050000  0.052662\n",
       "16  17  20210401  292.00    0.069597  0.073969\n",
       "17  18  20210501  298.70    0.022945  0.029027\n",
       "18  19  20210601  312.60    0.046535  0.054327\n",
       "19  20  20210701  306.19   -0.020505 -0.011003\n",
       "20  21  20210801  306.31    0.000392  0.011605\n",
       "21  22  20210901  328.87    0.073651  0.086574\n",
       "22  23  20211001  339.21    0.031441  0.046075\n",
       "23  24  20211101  356.14    0.049910  0.066254\n",
       "24  25  20211201  321.35   -0.097686 -0.079632\n",
       "25  26  20220101  295.90   -0.079197 -0.059432\n",
       "26  27  20220201  269.71   -0.088510 -0.067035\n",
       "27  28  20220301  131.00   -0.514293 -0.491108\n",
       "28  29  20220401  144.99    0.106794  0.131690\n",
       "29  30  20220501  129.10   -0.109594 -0.082988\n",
       "30  31  20220601  117.50   -0.089853 -0.061536\n",
       "31  32  20220701  124.50    0.059574  0.089601\n",
       "32  33  20220801  131.77    0.058394  0.090131\n",
       "33  34  20220901  133.98    0.016772  0.050219\n",
       "34  35  20221001  110.67   -0.173981 -0.138823\n",
       "35  36  20221101  127.23    0.149634  0.186502"
      ]
     },
     "execution_count": 85,
     "metadata": {},
     "output_type": "execute_result"
    }
   ],
   "source": [
    "df2 = df.loc[:,['t','Дата','АКЦИИ','ДАХОДНОСТЬ']]\n",
    "df2['e'] = df['ДАХОДНОСТЬ'] - b0 - b1*df['t']\n",
    "df2"
   ]
  },
  {
   "cell_type": "code",
   "execution_count": 79,
   "metadata": {},
   "outputs": [],
   "source": [
    "m1 = np.mean(df2.loc[:18, ['ДАХОДНОСТЬ']])\n",
    "m2 = np.mean(df2.loc[18:, ['ДАХОДНОСТЬ']])\n",
    "s1 = np.var(df2.loc[:18, ['ДАХОДНОСТЬ']])\n",
    "s2 = np.var(df2.loc[18:, ['ДАХОДНОСТЬ']])"
   ]
  },
  {
   "cell_type": "code",
   "execution_count": 80,
   "metadata": {},
   "outputs": [
    {
     "data": {
      "text/plain": [
       "ДАХОДНОСТЬ    0.019859\n",
       "dtype: float64"
      ]
     },
     "execution_count": 80,
     "metadata": {},
     "output_type": "execute_result"
    }
   ],
   "source": [
    "m1"
   ]
  },
  {
   "cell_type": "code",
   "execution_count": 81,
   "metadata": {},
   "outputs": [
    {
     "data": {
      "text/plain": [
       "ДАХОДНОСТЬ   -0.032251\n",
       "dtype: float64"
      ]
     },
     "execution_count": 81,
     "metadata": {},
     "output_type": "execute_result"
    }
   ],
   "source": [
    "m2"
   ]
  },
  {
   "cell_type": "markdown",
   "metadata": {},
   "source": [
    "Сравнение математических ожиданий"
   ]
  },
  {
   "cell_type": "markdown",
   "metadata": {},
   "source": [
    "$$\n",
    "H_0 : m_1 = m_2\n",
    "$$"
   ]
  },
  {
   "cell_type": "markdown",
   "metadata": {},
   "source": [
    "$$\n",
    "H_1 : m_1 \\neq m_2\n",
    "$$"
   ]
  },
  {
   "cell_type": "markdown",
   "metadata": {},
   "source": [
    "Вычислим наблюдаемое значение критерия Стьюдента"
   ]
  },
  {
   "cell_type": "markdown",
   "metadata": {},
   "source": [
    "$$\n",
    "t = \\frac{m_1 - m_2}{\\sqrt{\\frac{s_1^2}{18}+\\frac{s_2^2}{18}}}\n",
    "$$"
   ]
  },
  {
   "cell_type": "markdown",
   "metadata": {},
   "source": [
    "Число степеней свободы"
   ]
  },
  {
   "cell_type": "markdown",
   "metadata": {},
   "source": [
    "$$\n",
    "k = \\frac{(\\frac{s_1^2}{18} + \\frac{s_2^2}{18})^2}{(\\frac{s_1^2}{17})^2 + (\\frac{s_2^2}{17})^2 }\n",
    "$$"
   ]
  },
  {
   "cell_type": "code",
   "execution_count": 60,
   "metadata": {},
   "outputs": [],
   "source": [
    "K = ((1/18**2)*(s1 + s2)**2)/((1/17)*((s1/18)**2 + (s2/18)**2))"
   ]
  },
  {
   "cell_type": "code",
   "execution_count": 61,
   "metadata": {},
   "outputs": [
    {
     "data": {
      "text/plain": [
       "ДАХОДНОСТЬ    29.491681\n",
       "dtype: float64"
      ]
     },
     "execution_count": 61,
     "metadata": {},
     "output_type": "execute_result"
    }
   ],
   "source": [
    "K"
   ]
  },
  {
   "cell_type": "markdown",
   "metadata": {},
   "source": [
    "Число степеней свободы = 29"
   ]
  },
  {
   "cell_type": "code",
   "execution_count": 64,
   "metadata": {},
   "outputs": [],
   "source": [
    "T_test = (m1 - m2)/np.sqrt((1/18)*(s1 + s2))"
   ]
  },
  {
   "cell_type": "code",
   "execution_count": 65,
   "metadata": {},
   "outputs": [
    {
     "data": {
      "text/plain": [
       "ДАХОДНОСТЬ    1.282006\n",
       "dtype: float64"
      ]
     },
     "execution_count": 65,
     "metadata": {},
     "output_type": "execute_result"
    }
   ],
   "source": [
    "T_test"
   ]
  },
  {
   "cell_type": "markdown",
   "metadata": {},
   "source": [
    "$$\n",
    "\\alpha = 95%\n",
    "$$"
   ]
  },
  {
   "cell_type": "code",
   "execution_count": 68,
   "metadata": {},
   "outputs": [],
   "source": [
    "import scipy.stats"
   ]
  },
  {
   "cell_type": "code",
   "execution_count": 69,
   "metadata": {},
   "outputs": [
    {
     "data": {
      "text/plain": [
       "2.045229642132703"
      ]
     },
     "execution_count": 69,
     "metadata": {},
     "output_type": "execute_result"
    }
   ],
   "source": [
    "scipy.stats.t.ppf(q=1-.05/2,df=29)"
   ]
  },
  {
   "cell_type": "code",
   "execution_count": 79,
   "metadata": {},
   "outputs": [],
   "source": [
    "X = np.linspace(y.min(), y.max()+.2, 50)"
   ]
  },
  {
   "cell_type": "code",
   "execution_count": 85,
   "metadata": {},
   "outputs": [
    {
     "data": {
      "text/plain": [
       "<matplotlib.legend.Legend at 0x19ca5578668>"
      ]
     },
     "execution_count": 85,
     "metadata": {},
     "output_type": "execute_result"
    },
    {
     "data": {
      "image/png": "[encoded data removed]",
      "text/plain": [
       "<Figure size 432x288 with 1 Axes>"
      ]
     },
     "metadata": {
      "needs_background": "light"
     },
     "output_type": "display_data"
    }
   ],
   "source": [
    "plt.plot(X, scipy.stats.norm.pdf(X, m1, np.sqrt(s1)), label='μ: m1, σ: s1')\n",
    "plt.plot(X, scipy.stats.norm.pdf(X, m2, np.sqrt(s2)), label='μ:m2, σ: s2')\n",
    "plt.legend()"
   ]
  },
  {
   "cell_type": "code",
   "execution_count": 98,
   "metadata": {},
   "outputs": [],
   "source": [
    "X = np.linspace(-4, 4, 500)"
   ]
  },
  {
   "cell_type": "code",
   "execution_count": 120,
   "metadata": {},
   "outputs": [
    {
     "data": {
      "text/plain": [
       "[<matplotlib.lines.Line2D at 0x19ca56b5e48>]"
      ]
     },
     "execution_count": 120,
     "metadata": {},
     "output_type": "execute_result"
    },
    {
     "data": {
      "image/png": "[encoded data removed]",
      "text/plain": [
       "<Figure size 432x288 with 1 Axes>"
      ]
     },
     "metadata": {
      "needs_background": "light"
     },
     "output_type": "display_data"
    }
   ],
   "source": [
    "plt.plot(X, scipy.stats.norm.pdf(X, 0, 1))\n",
    "plt.fill_between(np.linspace(-4,-2.045229642132703, 500),scipy.stats.norm.pdf(np.linspace(-4,-2.045229642132703, 500),0, 1), color='r')\n",
    "plt.fill_between(np.linspace(2.045229642132703,4, 500),scipy.stats.norm.pdf(np.linspace(2.045229642132703,4, 500),0, 1), color='r')\n",
    "plt.plot([1.282006],[0],marker=\"o\", markersize=8,markerfacecolor=\"green\")"
   ]
  },
  {
   "cell_type": "markdown",
   "metadata": {},
   "source": [
    "то нет оснований отвергать нулевую гипотезу о равенстве математических ожиданий. Другими словами, математические ожидания различаются незначимо"
   ]
  },
  {
   "cell_type": "markdown",
   "metadata": {},
   "source": [
    "$$\n",
    "T_(test) < T_(кр)\n",
    "$$"
   ]
  },
  {
   "cell_type": "markdown",
   "metadata": {},
   "source": [
    "# F-критерий равенства дисперсий"
   ]
  },
  {
   "cell_type": "code",
   "execution_count": 82,
   "metadata": {},
   "outputs": [],
   "source": [
    "F = s1/s2"
   ]
  },
  {
   "cell_type": "code",
   "execution_count": 83,
   "metadata": {},
   "outputs": [
    {
     "data": {
      "text/plain": [
       "ДАХОДНОСТЬ    0.437832\n",
       "dtype: float64"
      ]
     },
     "execution_count": 83,
     "metadata": {},
     "output_type": "execute_result"
    }
   ],
   "source": [
    "F"
   ]
  },
  {
   "cell_type": "markdown",
   "metadata": {},
   "source": [
    "Ftest = 2.2686"
   ]
  },
  {
   "cell_type": "markdown",
   "metadata": {},
   "source": [
    "s1 = s2"
   ]
  },
  {
   "cell_type": "markdown",
   "metadata": {},
   "source": [
    "# Автокорреляция (Autocorrelation)"
   ]
  },
  {
   "cell_type": "code",
   "execution_count": 51,
   "metadata": {},
   "outputs": [],
   "source": [
    "data = np.array(df.loc[:, ['ДАХОДНОСТЬ']]).reshape((1,36))[0]"
   ]
  },
  {
   "cell_type": "code",
   "execution_count": 52,
   "metadata": {},
   "outputs": [
    {
     "data": {
      "text/plain": [
       "<matplotlib.axes._subplots.AxesSubplot at 0x209d1a143c8>"
      ]
     },
     "execution_count": 52,
     "metadata": {},
     "output_type": "execute_result"
    },
    {
     "data": {
      "image/png": "[encoded data removed]",
      "text/plain": [
       "<Figure size 432x288 with 1 Axes>"
      ]
     },
     "metadata": {
      "needs_background": "light"
     },
     "output_type": "display_data"
    }
   ],
   "source": [
    "pd.plotting.autocorrelation_plot(data)"
   ]
  },
  {
   "cell_type": "code",
   "execution_count": 55,
   "metadata": {},
   "outputs": [
    {
     "data": {
      "text/plain": [
       "(array([-30, -29, -28, -27, -26, -25, -24, -23, -22, -21, -20, -19, -18,\n",
       "        -17, -16, -15, -14, -13, -12, -11, -10,  -9,  -8,  -7,  -6,  -5,\n",
       "         -4,  -3,  -2,  -1,   0,   1,   2,   3,   4,   5,   6,   7,   8,\n",
       "          9,  10,  11,  12,  13,  14,  15,  16,  17,  18,  19,  20,  21,\n",
       "         22,  23,  24,  25,  26,  27,  28,  29,  30]),\n",
       " array([ 0.09527783, -0.03923493, -0.05146867,  0.03166554, -0.04789523,\n",
       "         0.02876156, -0.05130114,  0.32428767, -0.0674774 , -0.0652125 ,\n",
       "         0.07749739, -0.06093117, -0.07871971, -0.12128412,  0.14079976,\n",
       "        -0.1471516 , -0.12463955, -0.00774663, -0.10689225, -0.06750782,\n",
       "         0.01363578, -0.09423678, -0.18704868,  0.2484555 , -0.13855417,\n",
       "        -0.0256754 , -0.01615464,  0.14854279,  0.06115287, -0.06561759,\n",
       "         1.        , -0.06561759,  0.06115287,  0.14854279, -0.01615464,\n",
       "        -0.0256754 , -0.13855417,  0.2484555 , -0.18704868, -0.09423678,\n",
       "         0.01363578, -0.06750782, -0.10689225, -0.00774663, -0.12463955,\n",
       "        -0.1471516 ,  0.14079976, -0.12128412, -0.07871971, -0.06093117,\n",
       "         0.07749739, -0.0652125 , -0.0674774 ,  0.32428767, -0.05130114,\n",
       "         0.02876156, -0.04789523,  0.03166554, -0.05146867, -0.03923493,\n",
       "         0.09527783]),\n",
       " <matplotlib.collections.LineCollection at 0x209d1b7edd8>,\n",
       " <matplotlib.lines.Line2D at 0x209d1b8af28>)"
      ]
     },
     "execution_count": 55,
     "metadata": {},
     "output_type": "execute_result"
    },
    {
     "data": {
      "image/png": "[encoded data removed]",
      "text/plain": [
       "<Figure size 432x288 with 1 Axes>"
      ]
     },
     "metadata": {
      "needs_background": "light"
     },
     "output_type": "display_data"
    }
   ],
   "source": [
    "plt.acorr(data,maxlags = 30)"
   ]
  },
  {
   "cell_type": "code",
   "execution_count": null,
   "metadata": {},
   "outputs": [],
   "source": []
  }
 ],
 "metadata": {
  "kernelspec": {
   "display_name": "Python 3",
   "language": "python",
   "name": "python3"
  },
  "language_info": {
   "codemirror_mode": {
    "name": "ipython",
    "version": 3
   },
   "file_extension": ".py",
   "mimetype": "text/x-python",
   "name": "python",
   "nbconvert_exporter": "python",
   "pygments_lexer": "ipython3",
   "version": "3.7.3"
  }
 },
 "nbformat": 4,
 "nbformat_minor": 2
}
