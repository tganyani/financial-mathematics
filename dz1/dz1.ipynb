{
 "cells": [
  {
   "cell_type": "code",
   "execution_count": 25,
   "metadata": {},
   "outputs": [],
   "source": [
    "#linear programming python"
   ]
  },
  {
   "cell_type": "code",
   "execution_count": 146,
   "metadata": {},
   "outputs": [],
   "source": [
    "from scipy.optimize import linprog\n",
    "import numpy as np"
   ]
  },
  {
   "cell_type": "code",
   "execution_count": 147,
   "metadata": {},
   "outputs": [],
   "source": [
    "#F(x1,x2) = 10x1 + 20x2 -> max\n",
    "# x1 +  3.5x2 <= 350\n",
    "# 2x1 + 0.5x2 <= 240\n",
    "# x1 + x2 <= 150\n",
    "# x2 >= 60\n",
    "# x1>0"
   ]
  },
  {
   "cell_type": "code",
   "execution_count": 148,
   "metadata": {},
   "outputs": [],
   "source": [
    "obj = np.array([-10, -20])\n",
    "lhs_ineq = np.array([[1,3.5],[2,0.5],[1,1]])\n",
    "rhs_ineq = np.array([350,240,150])\n"
   ]
  },
  {
   "cell_type": "code",
   "execution_count": 149,
   "metadata": {},
   "outputs": [],
   "source": [
    "bnd = [(0, float(\"inf\")), (60, float(\"inf\"))]"
   ]
  },
  {
   "cell_type": "code",
   "execution_count": 150,
   "metadata": {},
   "outputs": [
    {
     "name": "stdout",
     "output_type": "stream",
     "text": [
      "max =  2300.0\n",
      "x =  [70. 80.]\n"
     ]
    }
   ],
   "source": [
    "opt = linprog(c=obj, A_ub=lhs_ineq, b_ub=rhs_ineq,bounds=bnd,method=\"simplex\")\n",
    "print('max = ',-1*opt.fun)\n",
    "print('x = ', opt.x)"
   ]
  },
  {
   "cell_type": "code",
   "execution_count": 151,
   "metadata": {},
   "outputs": [],
   "source": [
    "################################# question1\n",
    "#F(x1,x2) = 0.25x1 + 0.6x2 -> max\n",
    "#(0.14)**2 + 0.45**2  + 0.0882x1x2\n",
    "#x1 + x2 = 1"
   ]
  },
  {
   "cell_type": "code",
   "execution_count": 152,
   "metadata": {},
   "outputs": [],
   "source": [
    "from scipy.optimize import minimize, NonlinearConstraint, LinearConstraint,Bounds,fsolve"
   ]
  },
  {
   "cell_type": "code",
   "execution_count": 153,
   "metadata": {},
   "outputs": [],
   "source": [
    "f = lambda x: -0.25*x[0] -0.6*x[1]\n"
   ]
  },
  {
   "cell_type": "code",
   "execution_count": 154,
   "metadata": {},
   "outputs": [],
   "source": [
    "A = np.array([1,1])\n",
    "c = 0\n",
    "d = 1\n",
    "C1 = Bounds(np.array([0, 0]), np.array([1,1]))\n",
    "C2 = LinearConstraint(A, c, d)\n",
    "C3 = NonlinearConstraint(lambda x : (0.14**2)*x[0]**2 + (0.45**2)*x[1]**2 + 0.0882*x[0]*x[1], 0, 0.3)"
   ]
  },
  {
   "cell_type": "code",
   "execution_count": 155,
   "metadata": {},
   "outputs": [
    {
     "name": "stdout",
     "output_type": "stream",
     "text": [
      "max =  0.6\n",
      "x =  [0. 1.]\n"
     ]
    }
   ],
   "source": [
    "sol = minimize(f, np.random.rand(2),bounds=C1, constraints=(C2,C3))\n",
    "print('max = ',-1*sol.fun)\n",
    "print('x = ', sol.x)"
   ]
  },
  {
   "cell_type": "code",
   "execution_count": 156,
   "metadata": {},
   "outputs": [
    {
     "name": "stdout",
     "output_type": "stream",
     "text": [
      "min =  0.06519387755102041\n",
      "x =  [0.57142857 0.42857143]\n"
     ]
    }
   ],
   "source": [
    "##############question2\n",
    "#F(x1,x2) =  (0.14)**2 + 0.45**2  + 0.0882x1x2 -> min\n",
    "#-0.25x1 - 0.6x2 <= -0.4\n",
    "#x1 + x2 = 1\n",
    "f = lambda x: (0.14**2)*x[0]**2 + (0.45**2)*x[1]**2 + 0.0882*x[0]*x[1]\n",
    "A = np.array([[1,1],[-0.25,-0.6]])\n",
    "c = np.array([0,-np.inf])\n",
    "d = np.array([1,-0.4])\n",
    "\n",
    "C1 = Bounds(np.array([0, 0]), np.array([1,1]))\n",
    "C2 = LinearConstraint(A, c, d)\n",
    "sol = minimize(f, np.random.rand(2),bounds=C1, constraints=(C2))\n",
    "print('min = ',sol.fun)\n",
    "print('x = ', sol.x)\n"
   ]
  },
  {
   "cell_type": "code",
   "execution_count": 157,
   "metadata": {},
   "outputs": [],
   "source": [
    "####################################1111\n",
    "#Lagrange Multipliers\n",
    "from sympy import Symbol, nsolve\n",
    "x1 = Symbol('x1')\n",
    "x2 = Symbol('x2')\n",
    "w = Symbol('w')\n",
    "z = Symbol('z')\n",
    "\n",
    "f1 = 0.25 + 2*(0.14**2)*x1*w  + 0.0882*x2*w + z\n",
    "f2 = 0.6 + 2*(0.45**2)*x2*w + 0.0882*x1*w + z\n",
    "g1 = (0.14**2)*x1**2 + (0.45**2)*x2**2 + 0.0882*x1*x2 -0.3\n",
    "g2 = x1 + x2 -1"
   ]
  },
  {
   "cell_type": "code",
   "execution_count": 141,
   "metadata": {},
   "outputs": [
    {
     "data": {
      "text/latex": [
       "$\\displaystyle \\left[\\begin{matrix}-0.275649914692462\\\\1.27564991469246\\\\-0.896013654606656\\\\-0.158869277378368\\end{matrix}\\right]$"
      ],
      "text/plain": [
       "Matrix([\n",
       "[-0.275649914692462],\n",
       "[  1.27564991469246],\n",
       "[-0.896013654606656],\n",
       "[-0.158869277378368]])"
      ]
     },
     "execution_count": 141,
     "metadata": {},
     "output_type": "execute_result"
    }
   ],
   "source": [
    "nsolve((f1, f2,g1,g2), (x1, x2,w,z), (0.002, 0.001,0.002,0))"
   ]
  },
  {
   "cell_type": "code",
   "execution_count": 142,
   "metadata": {},
   "outputs": [],
   "source": [
    "def fx(x):\n",
    "    f1 = 0.25 + 2*(0.14**2)*x[0]*x[2]  + 0.0882*x[1]*x[2] + x[3]\n",
    "    f2 = 0.6 + 2*(0.45**2)*x[1]*x[2] + 0.0882*x[0]*x[2] + x[3]\n",
    "    g1 = (0.14**2)*x[0]**2 + (0.45**2)*x[1]**2 + 0.0882*x[0]*x[1] -0.3\n",
    "    g2 = x[0] + x[1] -1\n",
    "    return [f1,f2,g1,g2]"
   ]
  },
  {
   "cell_type": "code",
   "execution_count": 143,
   "metadata": {},
   "outputs": [
    {
     "data": {
      "text/plain": [
       "array([-0.27564991,  1.27564991, -0.89601365, -0.15886928])"
      ]
     },
     "execution_count": 143,
     "metadata": {},
     "output_type": "execute_result"
    }
   ],
   "source": [
    "X = fsolve(fx, [0, 0,0,0])\n",
    "X"
   ]
  },
  {
   "cell_type": "code",
   "execution_count": 144,
   "metadata": {},
   "outputs": [
    {
     "data": {
      "text/plain": [
       "0.6964774701441343"
      ]
     },
     "execution_count": 144,
     "metadata": {},
     "output_type": "execute_result"
    }
   ],
   "source": [
    "0.25*X[0] + 0.6*X[1]"
   ]
  },
  {
   "cell_type": "code",
   "execution_count": null,
   "metadata": {},
   "outputs": [],
   "source": []
  }
 ],
 "metadata": {
  "kernelspec": {
   "display_name": "Python 3",
   "language": "python",
   "name": "python3"
  },
  "language_info": {
   "codemirror_mode": {
    "name": "ipython",
    "version": 3
   },
   "file_extension": ".py",
   "mimetype": "text/x-python",
   "name": "python",
   "nbconvert_exporter": "python",
   "pygments_lexer": "ipython3",
   "version": "3.7.3"
  }
 },
 "nbformat": 4,
 "nbformat_minor": 2
}
